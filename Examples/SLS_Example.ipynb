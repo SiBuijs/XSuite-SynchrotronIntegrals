{
 "cells": [
  {
   "cell_type": "markdown",
   "metadata": {},
   "source": [
    "# Radiation Integrals in the Swiss Light Source\n",
    "\n",
    "Radiation Integrals:\n",
    "$$I_1 = \\oint \\frac{\\eta}{\\rho} \\text{d}s$$\n",
    "$$I_2 = \\oint \\frac{1}{\\rho^2} \\text{d}s$$\n",
    "$$I_3 = \\oint \\frac{1}{|\\rho|^3} \\text{d}s$$\n",
    "$$I_4 = \\oint \\frac{1 - 2n}{|\\rho|^3} \\eta \\text{d}s$$\n",
    "$$I_5 = \\oint \\frac{\\mathcal{H}}{|\\rho|^3} \\text{d}s$$"
   ]
  },
  {
   "cell_type": "code",
   "execution_count": 1,
   "metadata": {},
   "outputs": [],
   "source": [
    "import numpy as np\n",
    "import matplotlib.pyplot as plt\n",
    "\n",
    "import xtrack as xt\n",
    "import xobjects as xo\n",
    "\n",
    "from scipy.constants import c as clight"
   ]
  },
  {
   "cell_type": "code",
   "execution_count": 2,
   "metadata": {},
   "outputs": [
    {
     "data": {
      "application/vnd.jupyter.widget-view+json": {
       "model_id": "bda5776ee61c4e75a73b37c1a12afc0b",
       "version_major": 2,
       "version_minor": 0
      },
      "text/plain": [
       "Loading line from dict:   0%|          | 0/4701 [00:00<?, ?it/s]"
      ]
     },
     "metadata": {},
     "output_type": "display_data"
    },
    {
     "name": "stdout",
     "output_type": "stream",
     "text": [
      "Done loading line from dict.           \n"
     ]
    }
   ],
   "source": [
    "line = xt.Line.from_json('../Example_Data/b075_2024.09.25.json')\n",
    "line.particle_ref = xt.Particles(q0 = -1, mass0 = xt.ELECTRON_MASS_EV, kinetic_energy0=2.7e9)"
   ]
  },
  {
   "cell_type": "code",
   "execution_count": 14,
   "metadata": {},
   "outputs": [],
   "source": [
    "# Frequency and voltage of the cavities from the technical design report.\n",
    "cavfreq  = 499.6537e6\n",
    "cavvolt  = 1780e3\n",
    "\n",
    "# Create a table to inspect elements if needed.\n",
    "tab = line.get_table()\n",
    "\n",
    "# This is the place where arc 04 ends and long straight 05 starts.\n",
    "# The cavities should be located somewhere here.\n",
    "# The drift region is about 4 meters long, so somewhere between s_start_long05 and s_start_long05 + 4.\n",
    "s_start_long05 = tab['s', 'ars05_gmrk_0000']\n",
    "s_start_maincavity = s_start_long05 + 1\n",
    "\n",
    "# Insert main cavities.\n",
    "line.insert_element('maincav01', at_s=s_start_maincavity, element=xt.Cavity(frequency=cavfreq, voltage=cavvolt, lag=180))"
   ]
  },
  {
   "cell_type": "code",
   "execution_count": 15,
   "metadata": {},
   "outputs": [
    {
     "data": {
      "application/vnd.jupyter.widget-view+json": {
       "model_id": "035c58eede42472aade27e2ed8d4c944",
       "version_major": 2,
       "version_minor": 0
      },
      "text/plain": [
       "Slicing line:   0%|          | 0/105281 [00:00<?, ?it/s]"
      ]
     },
     "metadata": {},
     "output_type": "display_data"
    }
   ],
   "source": [
    "slicing_strategies = [\n",
    "    xt.Strategy(slicing=xt.Teapot(8)),  # Default\n",
    "    xt.Strategy(slicing=xt.Teapot(2), element_type=xt.Bend),\n",
    "    xt.Strategy(slicing=xt.Teapot(8), element_type=xt.Quadrupole),\n",
    "    xt.Strategy(slicing=xt.Teapot(8), element_type=xt.Multipole),\n",
    "]\n",
    "line.slice_thick_elements(slicing_strategies)\n",
    "\n",
    "# Build the tracker.\n",
    "line.discard_tracker()\n",
    "line.build_tracker(_context=xo.ContextCpu())\n",
    "line.configure_radiation(model='mean')\n",
    "\n",
    "\n",
    "# Tracking ------------------------------------------------------------------------------------------------------------------------------------------\n",
    "# Calculate the Twiss parameters.\n",
    "tw = line.twiss(method='6d', strengths=True, eneloss_and_damping=True, radiation_integrals=True)"
   ]
  },
  {
   "cell_type": "code",
   "execution_count": 11,
   "metadata": {},
   "outputs": [
    {
     "data": {
      "text/plain": [
       "Table: 105281 rows, 17 cols\n",
       "name                                 s        length rad_int_kappax rad_int_kappay    rad_int_hx ...\n",
       "ring$start                           0             0             -0             -0   5.17113e-08\n",
       "ars01_gmrk_0000                      0             0             -0             -0   5.17113e-08\n",
       "drift_0                              0           0.4             -0             -0   5.17113e-08\n",
       "drift_ars01_mkik_0050..1           0.4           0.3             -0             -0   5.17111e-08\n",
       "ars01_mkik_0050                    0.7           0.6             -0             -0   5.17111e-08\n",
       "drift_ars01_mkik_0050..2           0.7           0.3             -0             -0   5.17111e-08\n",
       "drift_1                              1          0.47             -0             -0    5.1711e-08\n",
       "drift_ars01_mkik_0140..1          1.47           0.3             -0             -0   5.17108e-08\n",
       "ars01_mkik_0140                   1.77           0.6             -0             -0   5.17108e-08\n",
       "drift_ars01_mkik_0140..2          1.77           0.3             -0             -0   5.17108e-08\n",
       "...\n",
       "drift_ars12_mqua_5940..8..3        287.86   0.000987654             -0             -0\n",
       "drift_ars12_mqua_5940..8..4       287.861   0.000987654             -0             -0\n",
       "drift_ars12_mqua_5940..8..5       287.862   0.000987654             -0             -0\n",
       "drift_ars12_mqua_5940..8..6       287.863   0.000987654             -0             -0\n",
       "drift_ars12_mqua_5940..8..7       287.864   0.000987654             -0             -0\n",
       "drift_ars12_mqua_5940..8..8       287.865   0.000432099             -0             -0\n",
       "ars12_mqua_5940_exit              287.865             0             -0             -0\n",
       "drift_1340                        287.865         0.135             -0             -0\n",
       "ring$end                              288             0             -0             -0\n",
       "_end_point                            288             0             -0             -0"
      ]
     },
     "execution_count": 11,
     "metadata": {},
     "output_type": "execute_result"
    }
   ],
   "source": [
    "tw._compute_radiation_integrals()"
   ]
  },
  {
   "cell_type": "code",
   "execution_count": 12,
   "metadata": {},
   "outputs": [
    {
     "name": "stdout",
     "output_type": "stream",
     "text": [
      "Damping Constants:\n",
      "From Radiation Integrals:\n",
      "x: 104.90162341243625 [s⁻¹]\n",
      "y: 132.07332690382182 [s⁻¹]\n",
      "z: 291.3183572990292 [s⁻¹]\n",
      "\n",
      "From Twiss:\n",
      "x: 241.6231201295284 [s⁻¹]\n",
      "y: 132.07160469079943 [s⁻¹]\n",
      "z: 154.60252075588042 [s⁻¹]\n"
     ]
    }
   ],
   "source": [
    "print(f'Damping Constants:')\n",
    "print(f'From Radiation Integrals:')\n",
    "print(f'x: {tw.rad_int_damping_constant_x_s} [s⁻¹]')\n",
    "print(f'y: {tw.rad_int_damping_constant_y_s} [s⁻¹]')\n",
    "print(f'z: {tw.rad_int_damping_constant_zeta_s} [s⁻¹]\\n')\n",
    "\n",
    "print(f'From Twiss:')\n",
    "print(f'x: {tw.damping_constants_s[0]} [s⁻¹]')\n",
    "print(f'y: {tw.damping_constants_s[1]} [s⁻¹]')\n",
    "print(f'z: {tw.damping_constants_s[2]} [s⁻¹]')"
   ]
  },
  {
   "cell_type": "code",
   "execution_count": 13,
   "metadata": {},
   "outputs": [
    {
     "name": "stdout",
     "output_type": "stream",
     "text": [
      "Equilibrium Emittances:\n",
      "From Radiation Integrals:\n",
      "x: 3.8320302877932464e-10 [m rad]\n",
      "y: 1.6125738813963252e-49 [m rad]\n",
      "\n",
      "From Twiss:\n",
      "x: 1.6635987304922333e-10 [m rad]\n",
      "y: 1.8398217115203367e-51 [m rad]\n",
      "z: 1.0006871405270933e-06 [m rad]\n"
     ]
    }
   ],
   "source": [
    "print(f'Equilibrium Emittances:')\n",
    "print(f'From Radiation Integrals:')\n",
    "print(f'x: {tw.rad_int_eq_gemitt_x} [m rad]')\n",
    "print(f'y: {tw.rad_int_eq_gemitt_y} [m rad]\\n')\n",
    "\n",
    "print(f'From Twiss:')\n",
    "print(f'x: {tw.eq_gemitt_x} [m rad]')\n",
    "print(f'y: {tw.eq_gemitt_y} [m rad]')\n",
    "print(f'z: {tw.eq_gemitt_zeta} [m rad]')"
   ]
  },
  {
   "cell_type": "code",
   "execution_count": null,
   "metadata": {},
   "outputs": [],
   "source": []
  }
 ],
 "metadata": {
  "kernelspec": {
   "display_name": "base",
   "language": "python",
   "name": "python3"
  },
  "language_info": {
   "codemirror_mode": {
    "name": "ipython",
    "version": 3
   },
   "file_extension": ".py",
   "mimetype": "text/x-python",
   "name": "python",
   "nbconvert_exporter": "python",
   "pygments_lexer": "ipython3",
   "version": "3.12.5"
  }
 },
 "nbformat": 4,
 "nbformat_minor": 2
}
